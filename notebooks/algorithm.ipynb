{
 "cells": [
  {
   "attachments": {},
   "cell_type": "markdown",
   "metadata": {},
   "source": [
    "## Data Lagging"
   ]
  },
  {
   "attachments": {},
   "cell_type": "markdown",
   "metadata": {},
   "source": [
    "To address the data lagging issue in our analysis of the relationship between CO2 and the number of occupants, we need to consider the delay between people entering or exiting the room and the resulting change in CO2 levels. This delay occurs because it takes a certain amount of time for the CO2 levels to populate the room after individuals have entered or left.\n",
    "\n",
    "To quantify this lag, we introduce the concept of the `upper bound value (UB)`. The UB represents the maximum CO2 value that can be reached in the room and is calculated based on the room volume. By determining the UB, we can estimate the time lag needed to account for the delay between occupancy changes and CO2 level changes."
   ]
  },
  {
   "attachments": {},
   "cell_type": "markdown",
   "metadata": {},
   "source": [
    "The UB is calculated as follows:\n",
    "\n",
    "$$UB = \\left|\\frac{RL \\times RW \\times RH}{C}\\right|$$\n",
    "\n",
    "where:  \n",
    "- $UB$ : Upper Bound Value\n",
    "- $RL$ : Room Length \n",
    "- $RW$ : Room Width\n",
    "- $RH$ : Room Height\n",
    "- $C$ : Constant (100)\n"
   ]
  },
  {
   "cell_type": "code",
   "execution_count": 1,
   "metadata": {},
   "outputs": [],
   "source": [
    "import numpy as np\n",
    "import pandas as pd\n",
    "import tensorflow as tf"
   ]
  },
  {
   "cell_type": "code",
   "execution_count": 2,
   "metadata": {},
   "outputs": [],
   "source": [
    "# def calculate_upper_bound(rl, rw, rh, c=100):\n",
    "#     ub = abs((rl * rw * rh) / c)\n",
    "#     return ub\n",
    "\n",
    "def calculate_upper_bound(rl, rw, rh, c=100):\n",
    "    # use tensorflow\n",
    "    rl = tf.constant(rl, dtype=tf.float32)\n",
    "    rw = tf.constant(rw, dtype=tf.float32)\n",
    "    rh = tf.constant(rh, dtype=tf.float32)\n",
    "    c = tf.constant(c, dtype=tf.float32)\n",
    "    \n",
    "    ub = tf.abs((rl * rw * rh) / c)\n",
    "    return ub"
   ]
  },
  {
   "attachments": {},
   "cell_type": "markdown",
   "metadata": {},
   "source": [
    "To calculate a line of best fit, we need to calculate the slope value between CO2 and occupancy data.  \n",
    "\n",
    "$$SL = \\frac{\\sum(O_t - \\bar{O_t})(C_t - \\bar{C_t})}{\\sum(O_t - \\bar{O_t})^2}$$\n",
    "\n",
    "where:\n",
    "- $SL$ : Slope of the linear regression line\n",
    "- $O_t$ : Occupancy value\n",
    "- $\\bar{O_t}$ : Sample means of the known occupancy value\n",
    "- $C_t$ : CO2 value\n",
    "- $\\bar{C_t}$ : Sample means of the known CO2 value"
   ]
  },
  {
   "cell_type": "code",
   "execution_count": 3,
   "metadata": {},
   "outputs": [],
   "source": [
    "def calculate_slope(occupancy_values, co2_values):\n",
    "\n",
    "    occupancy_values = tf.constant(occupancy_values, dtype=tf.float32)\n",
    "    co2_values = tf.constant(co2_values, dtype=tf.float32)\n",
    "    \n",
    "    # calculate the mean of occupancy values\n",
    "    occupancy_mean = tf.reduce_mean(occupancy_values)\n",
    "    co2_mean = tf.reduce_mean(co2_values)\n",
    "    \n",
    "    # calculate the numerator\n",
    "    numerator = tf.reduce_sum(\n",
    "        (occupancy_values - occupancy_mean) * (co2_values - co2_mean))\n",
    "    \n",
    "    # calculate the denominator\n",
    "    denominator = tf.reduce_sum(\n",
    "        (occupancy_values - occupancy_mean) ** 2)\n",
    "    \n",
    "    # calculate the slope\n",
    "    slope = numerator / denominator\n",
    "    \n",
    "    return slope"
   ]
  },
  {
   "attachments": {},
   "cell_type": "markdown",
   "metadata": {},
   "source": [
    "Let's now calculate the intercept value of the linear regression line.\n",
    "\n",
    "$$IC = \\bar{C_t} - SL \\times \\bar{O_t}$$\n",
    "\n",
    "where:\n",
    "- $IC$ : Intercept of the linear regression line\n",
    "- $\\bar{C_t}$ : Sample means of the known CO2 value\n",
    "- $SL$ : Slope of the linear regression line\n",
    "- $\\bar{O_t}$ : Sample means of the known occupancy value\n"
   ]
  },
  {
   "cell_type": "code",
   "execution_count": 4,
   "metadata": {},
   "outputs": [],
   "source": [
    "def calculate_intecept_value(occupancy_values, co2_values, slope):\n",
    "    \n",
    "    occupancy_values = tf.constant(occupancy_values, dtype=tf.float32)\n",
    "    co2_values = tf.constant(co2_values, dtype=tf.float32)\n",
    "    \n",
    "    # calculate the mean of occupancy values\n",
    "    occupancy_mean = tf.reduce_mean(occupancy_values)\n",
    "    co2_mean = tf.reduce_mean(co2_values)\n",
    "    \n",
    "    # calculate the intercept\n",
    "    intercept = co2_mean - (slope * occupancy_mean)\n",
    "    \n",
    "    return intercept"
   ]
  },
  {
   "attachments": {},
   "cell_type": "markdown",
   "metadata": {},
   "source": [
    "Finally, the formula for the line of best fit is:\n",
    "\n",
    "$$LBF = (O_t - (SL \\times C_t + IC))^2$$\n",
    "\n",
    "where:\n",
    "- $LBF$ : Line of best fit\n",
    "- $O_t$ : Occupancy value\n",
    "- $SL$ : Slope of the linear regression line\n",
    "- $C_t$ : CO2 value\n",
    "- $IC$ : Intercept of the linear regression line\n"
   ]
  },
  {
   "cell_type": "code",
   "execution_count": 5,
   "metadata": {},
   "outputs": [],
   "source": [
    "def calculate_line_of_best_fit(occupancy_value, co2_value, slope, intercept):\n",
    "    \n",
    "    occupancy_value = tf.constant(occupancy_value, dtype=tf.float32)\n",
    "    co2_value = tf.constant(co2_value, dtype=tf.float32)\n",
    "    \n",
    "    # calculate the line of best fit\n",
    "    line_of_best_fit = (occupancy_value - (slope * co2_value + intercept)) ** 2\n",
    "    \n",
    "    return line_of_best_fit"
   ]
  },
  {
   "attachments": {},
   "cell_type": "markdown",
   "metadata": {},
   "source": [
    "<!-- write in red to indicate that this place needs to be completed -->\n",
    "# TODO:\n",
    "- complete the data lagging section after answers from Irvan"
   ]
  },
  {
   "attachments": {},
   "cell_type": "markdown",
   "metadata": {},
   "source": [
    "## Seasonal-Trend Decomposition"
   ]
  },
  {
   "attachments": {},
   "cell_type": "markdown",
   "metadata": {},
   "source": [
    "STD is a method to decompose a time series into three components: trend, seasonal, and residual.  \n",
    "`The trend component` $\\textcolor{orange}{(T_t)}$ is the long-term progression of the series.  \n",
    "`The seasonal component` $\\textcolor{orange}{(S_t)}$ is the repeating short-term cycle in the series.  \n",
    "`The cyclical component` $\\textcolor{orange}{(C_t)}$ is the repeating up and down movements in the series that are not of a fixed period.  \n",
    "`The residual component` $\\textcolor{orange}{(e_t)}$ is the random variation in the series, and is calculated as the difference between the original series and the sum of the trend, seasonal, and cyclical components."
   ]
  },
  {
   "attachments": {},
   "cell_type": "markdown",
   "metadata": {},
   "source": [
    "In the paper we're implementing, the cyclical component is combined with the trend component to make a simpler model."
   ]
  },
  {
   "attachments": {},
   "cell_type": "markdown",
   "metadata": {},
   "source": [
    "The formula for the STD is:"
   ]
  },
  {
   "cell_type": "code",
   "execution_count": 1,
   "metadata": {},
   "outputs": [],
   "source": [
    "def calculate_moving_average(df,col):\n",
    "    moving_average = df[col].rolling(window=12).mean().rolling(window=2).mean()\n",
    "    return moving_average\n",
    "\n",
    "\n",
    "def decompose_time_series(df):\n",
    "    # Step 1: Calculate 2 × 12 moving average in the raw data\n",
    "    trend_co2 = df['CO2'].rolling(window=12, center=True).mean()\n",
    "    trend_occupancy = df['occupancy'].rolling(window=12, center=True).mean()\n",
    "\n",
    "    # Step 2: Calculate centred ratios\n",
    "    centred_ratios_co2 = df['CO2'] / trend_co2\n",
    "    centred_ratios_occupancy = df['occupancy'] / trend_occupancy\n",
    "\n",
    "    for _ in range(2):\n",
    "        # Step 3: Calculate rough seasonal feature\n",
    "        seasonal_co2 = centred_ratios_co2.rolling(window=2).mean().rolling(window=2).mean()\n",
    "        seasonal_occupancy = centred_ratios_occupancy.rolling(window=2).mean().rolling(window=2).mean()\n",
    "\n",
    "        # Step 4: Calculate irregular feature\n",
    "        et_co2 = centred_ratios_co2 / seasonal_co2\n",
    "        et_occupancy = centred_ratios_occupancy / seasonal_occupancy\n",
    "\n",
    "        # Step 5: Modify irregular feature by multiplying with seasonal feature\n",
    "        modified_et_co2 = et_co2 * seasonal_co2\n",
    "        modified_et_occupancy = et_occupancy * seasonal_occupancy\n",
    "\n",
    "        # Step 6: Update seasonal feature\n",
    "        seasonal_co2 = modified_et_co2.rolling(window=2).mean().rolling(window=2).mean()\n",
    "        seasonal_occupancy = modified_et_occupancy.rolling(window=2).mean().rolling(window=2).mean()\n",
    "\n",
    "        # Step 7: Calculate preliminary seasonal adjusted series\n",
    "        preliminary_seasonal_adjusted_co2 = df['CO2'] / seasonal_co2\n",
    "        preliminary_seasonal_adjusted_occupancy = df['occupancy'] / seasonal_occupancy\n",
    "\n",
    "        # Step 8: Estimate trend feature using weighted Henderson moving average\n",
    "        trend_co2 = preliminary_seasonal_adjusted_co2.rolling(window=12, center=True).mean()\n",
    "        trend_occupancy = preliminary_seasonal_adjusted_occupancy.rolling(window=12, center=True).mean()\n",
    "\n",
    "        # Step 9: Calculate new centred ratios\n",
    "        centred_ratios_co2 = df['CO2'] / trend_co2\n",
    "        centred_ratios_occupancy = df['occupancy'] / trend_occupancy\n",
    "\n",
    "        for _ in range(2):\n",
    "            # Step 10: Calculate rough seasonal feature using 3 × 5 moving average\n",
    "            seasonal_co2 = centred_ratios_co2.rolling(window=3, center=True).mean().rolling(window=5, center=True).mean()\n",
    "            seasonal_occupancy = centred_ratios_occupancy.rolling(window=3, center=True).mean().rolling(window=5, center=True).mean()\n",
    "\n",
    "            # Step 11: Update irregular feature using modified centred ratios and 3 × 5 moving average\n",
    "            et_co2 = centred_ratios_co2 / seasonal_co2\n",
    "            et_occupancy = centred_ratios_occupancy / seasonal_occupancy\n",
    "\n",
    "            modified_et_co2 = et_co2 * seasonal_co2\n",
    "            modified_et_occupancy = et_occupancy * seasonal_occupancy\n",
    "\n",
    "            # Step 12: Update seasonal feature using 3 × 5 moving average\n",
    "            seasonal_co2 = modified_et_co2.rolling(window=3, center=True).mean().rolling(window=5, center=True).mean()\n",
    "            seasonal_occupancy = modified_et_occupancy.rolling(window=3, center=True).mean().rolling(window=5, center=True).mean()\n",
    "\n",
    "            # Step 13: Calculate reminder feature\n",
    "            reminder_feature_co2 = preliminary_seasonal_adjusted_co2 / trend_co2\n",
    "            reminder_feature_occupancy = preliminary_seasonal_adjusted_occupancy / trend_occupancy\n",
    "\n",
    "    return trend_co2, trend_occupancy, seasonal_co2, seasonal_occupancy, reminder_feature_co2, reminder_feature_occupancy "
   ]
  }
 ],
 "metadata": {
  "kernelspec": {
   "display_name": "Python 3",
   "language": "python",
   "name": "python3"
  },
  "language_info": {
   "codemirror_mode": {
    "name": "ipython",
    "version": 3
   },
   "file_extension": ".py",
   "mimetype": "text/x-python",
   "name": "python",
   "nbconvert_exporter": "python",
   "pygments_lexer": "ipython3",
   "version": "3.9.0"
  },
  "orig_nbformat": 4
 },
 "nbformat": 4,
 "nbformat_minor": 2
}
